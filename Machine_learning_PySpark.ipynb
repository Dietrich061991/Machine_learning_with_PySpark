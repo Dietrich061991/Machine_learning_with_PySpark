{
  "nbformat": 4,
  "nbformat_minor": 0,
  "metadata": {
    "colab": {
      "name": "Machine_learning_PySpark.ipynb",
      "provenance": []
    },
    "kernelspec": {
      "name": "python3",
      "display_name": "Python 3"
    },
    "language_info": {
      "name": "python"
    }
  },
  "cells": [
    {
      "cell_type": "markdown",
      "metadata": {
        "id": "uVd0Rnqz8kga"
      },
      "source": [
        "# Machine Learning with PySpark\n",
        "   * Modelo de Classificação  \n",
        "### Datasource\n",
        "   * https://archive.ics.uci.edu/ml/datasets/HCV+data"
      ]
    },
    {
      "cell_type": "code",
      "metadata": {
        "colab": {
          "base_uri": "https://localhost:8080/"
        },
        "id": "ca9z8ZAd8nVw",
        "outputId": "ebaec558-8191-4a08-81d1-f554698eeae4"
      },
      "source": [
        "#Biblioteca que iremos usar\n",
        "!pip install pyspark"
      ],
      "execution_count": 1,
      "outputs": [
        {
          "output_type": "stream",
          "text": [
            "Requirement already satisfied: pyspark in /usr/local/lib/python3.7/dist-packages (3.1.1)\n",
            "Requirement already satisfied: py4j==0.10.9 in /usr/local/lib/python3.7/dist-packages (from pyspark) (0.10.9)\n"
          ],
          "name": "stdout"
        }
      ]
    },
    {
      "cell_type": "code",
      "metadata": {
        "id": "s23okIm89rDw"
      },
      "source": [
        "# carregar os pacotes\n",
        "from pyspark import SparkContext"
      ],
      "execution_count": 2,
      "outputs": []
    },
    {
      "cell_type": "code",
      "metadata": {
        "id": "Vqj0ZACwQmDZ"
      },
      "source": [
        "#para visualizar os jobs stages etc.. master ='local[2]' ou 'local[4]'\n",
        "sc = SparkContext(master='local[4]')"
      ],
      "execution_count": 3,
      "outputs": []
    },
    {
      "cell_type": "code",
      "metadata": {
        "colab": {
          "base_uri": "https://localhost:8080/",
          "height": 193
        },
        "id": "aL4qrZII9v6g",
        "outputId": "49b42aa8-1161-4cc8-d302-5621aab6d975"
      },
      "source": [
        "sc"
      ],
      "execution_count": 4,
      "outputs": [
        {
          "output_type": "execute_result",
          "data": {
            "text/html": [
              "\n",
              "        <div>\n",
              "            <p><b>SparkContext</b></p>\n",
              "\n",
              "            <p><a href=\"http://e40ba4b19f7c:4040\">Spark UI</a></p>\n",
              "\n",
              "            <dl>\n",
              "              <dt>Version</dt>\n",
              "                <dd><code>v3.1.1</code></dd>\n",
              "              <dt>Master</dt>\n",
              "                <dd><code>local[4]</code></dd>\n",
              "              <dt>AppName</dt>\n",
              "                <dd><code>pyspark-shell</code></dd>\n",
              "            </dl>\n",
              "        </div>\n",
              "        "
            ],
            "text/plain": [
              "<SparkContext master=local[4] appName=pyspark-shell>"
            ]
          },
          "metadata": {
            "tags": []
          },
          "execution_count": 4
        }
      ]
    },
    {
      "cell_type": "code",
      "metadata": {
        "id": "O_RSoYPv99xh"
      },
      "source": [
        "# carregar bibliotecas\n",
        "from pyspark.sql import SparkSession"
      ],
      "execution_count": 5,
      "outputs": []
    },
    {
      "cell_type": "code",
      "metadata": {
        "id": "iCJuEBSv-LB4"
      },
      "source": [
        "# Spark\n",
        "spark = SparkSession.builder.appName(\"MLwithSpark\").getOrCreate()"
      ],
      "execution_count": 6,
      "outputs": []
    },
    {
      "cell_type": "markdown",
      "metadata": {
        "id": "lPJMjOPB-rnq"
      },
      "source": [
        "## Gestão de fluxo de trabalho(WorkFlow )\n",
        "   * Preparação dos dados\n",
        "   * Feature Engineering\n",
        "   * Modelo de construção\n",
        "   * Avalie"
      ]
    },
    {
      "cell_type": "markdown",
      "metadata": {
        "id": "UfP2wySb-w69"
      },
      "source": [
        "## Tarefa\n",
        "   * Prever se um paciente é Hepatite ou parâmetro não baseado\n",
        "   * O conjunto de dados contém valores laboratoriais de doadores de sangue e pacientes com hepatite C e valores demográficos, como idade."
      ]
    },
    {
      "cell_type": "code",
      "metadata": {
        "id": "G8iHIEtG-wJh"
      },
      "source": [
        "# carregar a base de dados\n",
        "df = spark.read.csv(\"/content/sample_data/hcvdata.csv\",header=True,inferSchema=True)\n",
        "# inferSchema=True (serve para aplicar o tipo de acordo com os valores em cada coluna)\n",
        "# inferSchema=False (string)"
      ],
      "execution_count": 7,
      "outputs": []
    },
    {
      "cell_type": "code",
      "metadata": {
        "colab": {
          "base_uri": "https://localhost:8080/"
        },
        "id": "KtL7GHc6_K87",
        "outputId": "654fee57-cf6c-480e-87ab-3a72ba731e31"
      },
      "source": [
        "#ver as 5 primeiras linhas\n",
        "df.show(5)"
      ],
      "execution_count": 8,
      "outputs": [
        {
          "output_type": "stream",
          "text": [
            "+---+-------------+---+---+----+----+----+----+----+-----+----+-----+----+----+\n",
            "|_c0|     Category|Age|Sex| ALB| ALP| ALT| AST| BIL|  CHE|CHOL| CREA| GGT|PROT|\n",
            "+---+-------------+---+---+----+----+----+----+----+-----+----+-----+----+----+\n",
            "|  1|0=Blood Donor| 32|  m|38.5|52.5| 7.7|22.1| 7.5| 6.93|3.23|106.0|12.1|  69|\n",
            "|  2|0=Blood Donor| 32|  m|38.5|70.3|  18|24.7| 3.9|11.17| 4.8| 74.0|15.6|76.5|\n",
            "|  3|0=Blood Donor| 32|  m|46.9|74.7|36.2|52.6| 6.1| 8.84| 5.2| 86.0|33.2|79.3|\n",
            "|  4|0=Blood Donor| 32|  m|43.2|  52|30.6|22.6|18.9| 7.33|4.74| 80.0|33.8|75.7|\n",
            "|  5|0=Blood Donor| 32|  m|39.2|74.1|32.6|24.8| 9.6| 9.15|4.32| 76.0|29.9|68.7|\n",
            "+---+-------------+---+---+----+----+----+----+----+-----+----+-----+----+----+\n",
            "only showing top 5 rows\n",
            "\n"
          ],
          "name": "stdout"
        }
      ]
    },
    {
      "cell_type": "code",
      "metadata": {
        "colab": {
          "base_uri": "https://localhost:8080/"
        },
        "id": "FxqTKC-F_R7w",
        "outputId": "b6ec8fe7-19eb-4ae4-c35e-e669712fdd3f"
      },
      "source": [
        "# ver numero de  (linha,coluna)\n",
        "print(df.count(),len(df.columns))"
      ],
      "execution_count": 9,
      "outputs": [
        {
          "output_type": "stream",
          "text": [
            "615 14\n"
          ],
          "name": "stdout"
        }
      ]
    },
    {
      "cell_type": "code",
      "metadata": {
        "colab": {
          "base_uri": "https://localhost:8080/"
        },
        "id": "fMJ0LCJv_uQa",
        "outputId": "35553046-4618-42e6-fc1d-c8c6b78c4d1d"
      },
      "source": [
        "#ver as colunas\n",
        "print(df.columns)"
      ],
      "execution_count": 10,
      "outputs": [
        {
          "output_type": "stream",
          "text": [
            "['_c0', 'Category', 'Age', 'Sex', 'ALB', 'ALP', 'ALT', 'AST', 'BIL', 'CHE', 'CHOL', 'CREA', 'GGT', 'PROT']\n"
          ],
          "name": "stdout"
        }
      ]
    },
    {
      "cell_type": "code",
      "metadata": {
        "id": "cTw9z-Ul_3Rb"
      },
      "source": [
        "# reorganizar as colunas colocando a coluna \"category na utima posição\"\n",
        "df = df.select('Age', 'Sex', 'ALB', 'ALP', 'ALT', 'AST', 'BIL', 'CHE', 'CHOL', 'CREA', 'GGT', 'PROT','Category')"
      ],
      "execution_count": 11,
      "outputs": []
    },
    {
      "cell_type": "code",
      "metadata": {
        "colab": {
          "base_uri": "https://localhost:8080/"
        },
        "id": "eXwQOQQ2_8rR",
        "outputId": "b76d6bc1-4351-455a-dd74-97c634176743"
      },
      "source": [
        "#verificando se as modificação feitas anterioramente foram aplicadas como esperado\n",
        "# para isso vamos apenas printar as duas primeiras linha só para ver a nova posição da coluna \"Category\"\n",
        "df.show(2)"
      ],
      "execution_count": 12,
      "outputs": [
        {
          "output_type": "stream",
          "text": [
            "+---+---+----+----+---+----+---+-----+----+-----+----+----+-------------+\n",
            "|Age|Sex| ALB| ALP|ALT| AST|BIL|  CHE|CHOL| CREA| GGT|PROT|     Category|\n",
            "+---+---+----+----+---+----+---+-----+----+-----+----+----+-------------+\n",
            "| 32|  m|38.5|52.5|7.7|22.1|7.5| 6.93|3.23|106.0|12.1|  69|0=Blood Donor|\n",
            "| 32|  m|38.5|70.3| 18|24.7|3.9|11.17| 4.8| 74.0|15.6|76.5|0=Blood Donor|\n",
            "+---+---+----+----+---+----+---+-----+----+-----+----+----+-------------+\n",
            "only showing top 2 rows\n",
            "\n"
          ],
          "name": "stdout"
        }
      ]
    },
    {
      "cell_type": "code",
      "metadata": {
        "colab": {
          "base_uri": "https://localhost:8080/"
        },
        "id": "mYrS56vpAK2E",
        "outputId": "bfe92894-5804-45ad-ec76-295037621255"
      },
      "source": [
        "#verificando os tipos de dados\n",
        "df.dtypes"
      ],
      "execution_count": 13,
      "outputs": [
        {
          "output_type": "execute_result",
          "data": {
            "text/plain": [
              "[('Age', 'int'),\n",
              " ('Sex', 'string'),\n",
              " ('ALB', 'string'),\n",
              " ('ALP', 'string'),\n",
              " ('ALT', 'string'),\n",
              " ('AST', 'double'),\n",
              " ('BIL', 'double'),\n",
              " ('CHE', 'double'),\n",
              " ('CHOL', 'string'),\n",
              " ('CREA', 'double'),\n",
              " ('GGT', 'double'),\n",
              " ('PROT', 'string'),\n",
              " ('Category', 'string')]"
            ]
          },
          "metadata": {
            "tags": []
          },
          "execution_count": 13
        }
      ]
    },
    {
      "cell_type": "code",
      "metadata": {
        "colab": {
          "base_uri": "https://localhost:8080/"
        },
        "id": "KYSuVFaxAPNy",
        "outputId": "ed141c68-64dc-43c9-fa0b-87ba811cd345"
      },
      "source": [
        "# schema da tabala\n",
        "df.printSchema()"
      ],
      "execution_count": 14,
      "outputs": [
        {
          "output_type": "stream",
          "text": [
            "root\n",
            " |-- Age: integer (nullable = true)\n",
            " |-- Sex: string (nullable = true)\n",
            " |-- ALB: string (nullable = true)\n",
            " |-- ALP: string (nullable = true)\n",
            " |-- ALT: string (nullable = true)\n",
            " |-- AST: double (nullable = true)\n",
            " |-- BIL: double (nullable = true)\n",
            " |-- CHE: double (nullable = true)\n",
            " |-- CHOL: string (nullable = true)\n",
            " |-- CREA: double (nullable = true)\n",
            " |-- GGT: double (nullable = true)\n",
            " |-- PROT: string (nullable = true)\n",
            " |-- Category: string (nullable = true)\n",
            "\n"
          ],
          "name": "stdout"
        }
      ]
    },
    {
      "cell_type": "code",
      "metadata": {
        "colab": {
          "base_uri": "https://localhost:8080/"
        },
        "id": "Kq5AHjcOAcLR",
        "outputId": "644db339-8753-4857-e808-d8b784245eaf"
      },
      "source": [
        "#Resumo descritivo da tabela\n",
        "print(df.describe().show())"
      ],
      "execution_count": 15,
      "outputs": [
        {
          "output_type": "stream",
          "text": [
            "+-------+------------------+----+-----------------+------------------+------------------+-----------------+------------------+------------------+------------------+-----------------+-----------------+-----------------+-------------+\n",
            "|summary|               Age| Sex|              ALB|               ALP|               ALT|              AST|               BIL|               CHE|              CHOL|             CREA|              GGT|             PROT|     Category|\n",
            "+-------+------------------+----+-----------------+------------------+------------------+-----------------+------------------+------------------+------------------+-----------------+-----------------+-----------------+-------------+\n",
            "|  count|               615| 615|              615|               615|               615|              615|               615|               615|               615|              615|              615|              615|          615|\n",
            "|   mean| 47.40813008130081|null|41.62019543973941| 68.28391959798999| 28.45081433224754|34.78634146341462|11.396747967479675| 8.196634146341458| 5.368099173553719|81.28780487804877|39.53317073170732|72.04413680781768|         null|\n",
            "| stddev|10.055105445519239|null|5.780629404103076|26.028315300123676|25.469688813870942|33.09069033855156|19.673149805846588|2.2056572704292927|1.1327284311597354|49.75616601234976|54.66107123891245|5.402635737104955|         null|\n",
            "|    min|                19|   f|             14.9|             100.4|               0.9|             10.6|               0.8|              1.42|              1.43|              8.0|              4.5|             44.8|0=Blood Donor|\n",
            "|    max|                77|   m|               NA|                NA|                NA|            324.0|             254.0|             16.41|                NA|           1079.1|            650.9|               NA|  3=Cirrhosis|\n",
            "+-------+------------------+----+-----------------+------------------+------------------+-----------------+------------------+------------------+------------------+-----------------+-----------------+-----------------+-------------+\n",
            "\n",
            "None\n"
          ],
          "name": "stdout"
        }
      ]
    },
    {
      "cell_type": "code",
      "metadata": {
        "colab": {
          "base_uri": "https://localhost:8080/"
        },
        "id": "LIY_hELGAliR",
        "outputId": "685a9f54-6b39-494e-c368-3f164f014372"
      },
      "source": [
        "# Value Count \n",
        "df.groupBy('Category').count().show()"
      ],
      "execution_count": 16,
      "outputs": [
        {
          "output_type": "stream",
          "text": [
            "+--------------------+-----+\n",
            "|            Category|count|\n",
            "+--------------------+-----+\n",
            "|       0=Blood Donor|  533|\n",
            "|         3=Cirrhosis|   30|\n",
            "|          2=Fibrosis|   21|\n",
            "|0s=suspect Blood ...|    7|\n",
            "|         1=Hepatitis|   24|\n",
            "+--------------------+-----+\n",
            "\n"
          ],
          "name": "stdout"
        }
      ]
    },
    {
      "cell_type": "markdown",
      "metadata": {
        "id": "qnuYGqACArwE"
      },
      "source": [
        "## Feature Engineering\n",
        "    + Valores Numéricos\n",
        "    + Vetorização\n",
        "    + Dimensionamento (scaling)"
      ]
    },
    {
      "cell_type": "code",
      "metadata": {
        "id": "6Qii6q6uAldB"
      },
      "source": [
        "#importando a bibliteca pyspark para machine learning\n",
        "import pyspark.ml"
      ],
      "execution_count": 17,
      "outputs": []
    },
    {
      "cell_type": "code",
      "metadata": {
        "colab": {
          "base_uri": "https://localhost:8080/"
        },
        "id": "tfRCGu_VAlTy",
        "outputId": "dbb25e9b-fb7e-4791-db83-d8f313f63a7a"
      },
      "source": [
        "#os componentes do (pyspark.ml)\n",
        "dir(pyspark.ml)"
      ],
      "execution_count": 18,
      "outputs": [
        {
          "output_type": "execute_result",
          "data": {
            "text/plain": [
              "['Estimator',\n",
              " 'Model',\n",
              " 'Pipeline',\n",
              " 'PipelineModel',\n",
              " 'PredictionModel',\n",
              " 'Predictor',\n",
              " 'Transformer',\n",
              " 'UnaryTransformer',\n",
              " '__all__',\n",
              " '__builtins__',\n",
              " '__cached__',\n",
              " '__doc__',\n",
              " '__file__',\n",
              " '__loader__',\n",
              " '__name__',\n",
              " '__package__',\n",
              " '__path__',\n",
              " '__spec__',\n",
              " 'base',\n",
              " 'classification',\n",
              " 'clustering',\n",
              " 'common',\n",
              " 'evaluation',\n",
              " 'feature',\n",
              " 'fpm',\n",
              " 'image',\n",
              " 'linalg',\n",
              " 'param',\n",
              " 'pipeline',\n",
              " 'recommendation',\n",
              " 'regression',\n",
              " 'stat',\n",
              " 'tree',\n",
              " 'tuning',\n",
              " 'util',\n",
              " 'wrapper']"
            ]
          },
          "metadata": {
            "tags": []
          },
          "execution_count": 18
        }
      ]
    },
    {
      "cell_type": "markdown",
      "metadata": {
        "id": "7WYsWHfMByQD"
      },
      "source": [
        "\n",
        "\n",
        "```\n",
        "Vamos usar o 'feature' do dir(pyspark.ml) para fazer as transformaçoes \n",
        "```\n",
        "\n"
      ]
    },
    {
      "cell_type": "code",
      "metadata": {
        "colab": {
          "base_uri": "https://localhost:8080/"
        },
        "id": "ZdmFOYxVBtX9",
        "outputId": "7c6c3c5a-df96-42b5-ac32-5b26c9d26814"
      },
      "source": [
        "#componante do (pyspark.ml.feature)\n",
        "dir(pyspark.ml.feature)"
      ],
      "execution_count": 19,
      "outputs": [
        {
          "output_type": "execute_result",
          "data": {
            "text/plain": [
              "['Binarizer',\n",
              " 'BucketedRandomProjectionLSH',\n",
              " 'BucketedRandomProjectionLSHModel',\n",
              " 'Bucketizer',\n",
              " 'ChiSqSelector',\n",
              " 'ChiSqSelectorModel',\n",
              " 'CountVectorizer',\n",
              " 'CountVectorizerModel',\n",
              " 'DCT',\n",
              " 'ElementwiseProduct',\n",
              " 'FeatureHasher',\n",
              " 'HasFeaturesCol',\n",
              " 'HasHandleInvalid',\n",
              " 'HasInputCol',\n",
              " 'HasInputCols',\n",
              " 'HasLabelCol',\n",
              " 'HasMaxIter',\n",
              " 'HasNumFeatures',\n",
              " 'HasOutputCol',\n",
              " 'HasOutputCols',\n",
              " 'HasRelativeError',\n",
              " 'HasSeed',\n",
              " 'HasStepSize',\n",
              " 'HasThreshold',\n",
              " 'HasThresholds',\n",
              " 'HashingTF',\n",
              " 'IDF',\n",
              " 'IDFModel',\n",
              " 'Imputer',\n",
              " 'ImputerModel',\n",
              " 'IndexToString',\n",
              " 'Interaction',\n",
              " 'JavaEstimator',\n",
              " 'JavaMLReadable',\n",
              " 'JavaMLWritable',\n",
              " 'JavaModel',\n",
              " 'JavaParams',\n",
              " 'JavaTransformer',\n",
              " 'MaxAbsScaler',\n",
              " 'MaxAbsScalerModel',\n",
              " 'MinHashLSH',\n",
              " 'MinHashLSHModel',\n",
              " 'MinMaxScaler',\n",
              " 'MinMaxScalerModel',\n",
              " 'NGram',\n",
              " 'Normalizer',\n",
              " 'OneHotEncoder',\n",
              " 'OneHotEncoderModel',\n",
              " 'PCA',\n",
              " 'PCAModel',\n",
              " 'Param',\n",
              " 'Params',\n",
              " 'PolynomialExpansion',\n",
              " 'QuantileDiscretizer',\n",
              " 'RFormula',\n",
              " 'RFormulaModel',\n",
              " 'RegexTokenizer',\n",
              " 'RobustScaler',\n",
              " 'RobustScalerModel',\n",
              " 'SQLTransformer',\n",
              " 'SparkContext',\n",
              " 'StandardScaler',\n",
              " 'StandardScalerModel',\n",
              " 'StopWordsRemover',\n",
              " 'StringIndexer',\n",
              " 'StringIndexerModel',\n",
              " 'Tokenizer',\n",
              " 'TypeConverters',\n",
              " 'UnivariateFeatureSelector',\n",
              " 'UnivariateFeatureSelectorModel',\n",
              " 'VarianceThresholdSelector',\n",
              " 'VarianceThresholdSelectorModel',\n",
              " 'VectorAssembler',\n",
              " 'VectorIndexer',\n",
              " 'VectorIndexerModel',\n",
              " 'VectorSizeHint',\n",
              " 'VectorSlicer',\n",
              " 'Word2Vec',\n",
              " 'Word2VecModel',\n",
              " '_BucketedRandomProjectionLSHParams',\n",
              " '_CountVectorizerParams',\n",
              " '_IDFParams',\n",
              " '_ImputerParams',\n",
              " '_LSH',\n",
              " '_LSHModel',\n",
              " '_LSHParams',\n",
              " '_MaxAbsScalerParams',\n",
              " '_MinMaxScalerParams',\n",
              " '_OneHotEncoderParams',\n",
              " '_PCAParams',\n",
              " '_RFormulaParams',\n",
              " '_RobustScalerParams',\n",
              " '_Selector',\n",
              " '_SelectorModel',\n",
              " '_SelectorParams',\n",
              " '_StandardScalerParams',\n",
              " '_StringIndexerParams',\n",
              " '_UnivariateFeatureSelectorParams',\n",
              " '_VarianceThresholdSelectorParams',\n",
              " '_VectorIndexerParams',\n",
              " '_Word2VecParams',\n",
              " '__all__',\n",
              " '__builtins__',\n",
              " '__cached__',\n",
              " '__doc__',\n",
              " '__file__',\n",
              " '__loader__',\n",
              " '__name__',\n",
              " '__package__',\n",
              " '__spec__',\n",
              " '_convert_to_vector',\n",
              " '_jvm',\n",
              " 'inherit_doc',\n",
              " 'keyword_only',\n",
              " 'since']"
            ]
          },
          "metadata": {
            "tags": []
          },
          "execution_count": 19
        }
      ]
    },
    {
      "cell_type": "markdown",
      "metadata": {
        "id": "Afby2qjHCQY0"
      },
      "source": [
        "\n",
        "\n",
        "```\n",
        "Dentro do dir(pyspark.ml.feature) temos o \"StringIndexer\" que iremos usar para transformar os dados do tipo string\n",
        "```\n",
        "\n"
      ]
    },
    {
      "cell_type": "code",
      "metadata": {
        "id": "dMY3EwQpCPBR"
      },
      "source": [
        "# carregar ML Pkgs que permite transformar os dados do tipo string\n",
        "from pyspark.ml.feature import StringIndexer"
      ],
      "execution_count": 20,
      "outputs": []
    },
    {
      "cell_type": "code",
      "metadata": {
        "colab": {
          "base_uri": "https://localhost:8080/"
        },
        "id": "AaKCw8wDCnq0",
        "outputId": "08d4db65-1e1f-4cb8-e88c-b29a6a6fb8fa"
      },
      "source": [
        "# Unique Values para Sex\n",
        "df.select('Sex').distinct().show()"
      ],
      "execution_count": 21,
      "outputs": [
        {
          "output_type": "stream",
          "text": [
            "+---+\n",
            "|Sex|\n",
            "+---+\n",
            "|  m|\n",
            "|  f|\n",
            "+---+\n",
            "\n"
          ],
          "name": "stdout"
        }
      ]
    },
    {
      "cell_type": "markdown",
      "metadata": {
        "id": "O-ube65uC2lj"
      },
      "source": [
        "### IndexToString\n",
        "Simetricamente para StringIndexer, IndexToString mapeia uma coluna de índices de rótulo de volta para \n",
        "uma coluna que contém os rótulos originais como strings.Um caso de uso comum é produzir índices a partir de rótulos \n",
        "com StringIndexer, treinar um modelo com esses índices e recuperar os rótulos originais da coluna de índices previstoscom      IndexToString. No entanto, você é livre para fornecer suas próprias etiquetas."
      ]
    },
    {
      "cell_type": "code",
      "metadata": {
        "id": "XnVp7EzTCy7S"
      },
      "source": [
        "# Converter string para numerico code(vamos criar uma nova coluna chamada 'sex_nemerico' onde iremos preencher com valor numerico de acordo com o tipo de sexo)\n",
        "# label encoding\n",
        "#stringto index\n",
        "sex_code = StringIndexer(inputCol='Sex',outputCol='sex_nemerico').fit(df)"
      ],
      "execution_count": 22,
      "outputs": []
    },
    {
      "cell_type": "code",
      "metadata": {
        "id": "LItmcBgCDK9i"
      },
      "source": [
        "df = sex_code.transform(df)"
      ],
      "execution_count": 23,
      "outputs": []
    },
    {
      "cell_type": "code",
      "metadata": {
        "colab": {
          "base_uri": "https://localhost:8080/"
        },
        "id": "WRDpFmykDPyy",
        "outputId": "a34198b2-a378-44a3-a15c-c797b3bc63b0"
      },
      "source": [
        "df.show(3)"
      ],
      "execution_count": 24,
      "outputs": [
        {
          "output_type": "stream",
          "text": [
            "+---+---+----+----+----+----+---+-----+----+-----+----+----+-------------+------------+\n",
            "|Age|Sex| ALB| ALP| ALT| AST|BIL|  CHE|CHOL| CREA| GGT|PROT|     Category|sex_nemerico|\n",
            "+---+---+----+----+----+----+---+-----+----+-----+----+----+-------------+------------+\n",
            "| 32|  m|38.5|52.5| 7.7|22.1|7.5| 6.93|3.23|106.0|12.1|  69|0=Blood Donor|         0.0|\n",
            "| 32|  m|38.5|70.3|  18|24.7|3.9|11.17| 4.8| 74.0|15.6|76.5|0=Blood Donor|         0.0|\n",
            "| 32|  m|46.9|74.7|36.2|52.6|6.1| 8.84| 5.2| 86.0|33.2|79.3|0=Blood Donor|         0.0|\n",
            "+---+---+----+----+----+----+---+-----+----+-----+----+----+-------------+------------+\n",
            "only showing top 3 rows\n",
            "\n"
          ],
          "name": "stdout"
        }
      ]
    },
    {
      "cell_type": "code",
      "metadata": {
        "id": "dlsPQKRoDbqh"
      },
      "source": [
        "# Converter string para numerico code(vamos criar uma nova coluna chamada 'code_categoriy' onde iremos preencher com valor numerico de acordo com o tipo de sexo)\n",
        "# label encoding\n",
        "code_category = StringIndexer(inputCol='Category',outputCol='code_category').fit(df)"
      ],
      "execution_count": 25,
      "outputs": []
    },
    {
      "cell_type": "code",
      "metadata": {
        "id": "EAfKX0b5DlHa"
      },
      "source": [
        "df = code_category.transform(df)"
      ],
      "execution_count": 26,
      "outputs": []
    },
    {
      "cell_type": "code",
      "metadata": {
        "colab": {
          "base_uri": "https://localhost:8080/"
        },
        "id": "yQ0proWhDqMC",
        "outputId": "bccc2b23-18e9-4fa9-8e5c-efe7039fa505"
      },
      "source": [
        "df.show(3)"
      ],
      "execution_count": 27,
      "outputs": [
        {
          "output_type": "stream",
          "text": [
            "+---+---+----+----+----+----+---+-----+----+-----+----+----+-------------+------------+-------------+\n",
            "|Age|Sex| ALB| ALP| ALT| AST|BIL|  CHE|CHOL| CREA| GGT|PROT|     Category|sex_nemerico|code_category|\n",
            "+---+---+----+----+----+----+---+-----+----+-----+----+----+-------------+------------+-------------+\n",
            "| 32|  m|38.5|52.5| 7.7|22.1|7.5| 6.93|3.23|106.0|12.1|  69|0=Blood Donor|         0.0|          0.0|\n",
            "| 32|  m|38.5|70.3|  18|24.7|3.9|11.17| 4.8| 74.0|15.6|76.5|0=Blood Donor|         0.0|          0.0|\n",
            "| 32|  m|46.9|74.7|36.2|52.6|6.1| 8.84| 5.2| 86.0|33.2|79.3|0=Blood Donor|         0.0|          0.0|\n",
            "+---+---+----+----+----+----+---+-----+----+-----+----+----+-------------+------------+-------------+\n",
            "only showing top 3 rows\n",
            "\n"
          ],
          "name": "stdout"
        }
      ]
    },
    {
      "cell_type": "code",
      "metadata": {
        "colab": {
          "base_uri": "https://localhost:8080/"
        },
        "id": "IuR3DllkDvE6",
        "outputId": "35530647-b5e7-4a7d-8529-728bc35c8d08"
      },
      "source": [
        "# Obtenha os rótulos\n",
        "code_category.labels"
      ],
      "execution_count": 28,
      "outputs": [
        {
          "output_type": "execute_result",
          "data": {
            "text/plain": [
              "['0=Blood Donor',\n",
              " '3=Cirrhosis',\n",
              " '1=Hepatitis',\n",
              " '2=Fibrosis',\n",
              " '0s=suspect Blood Donor']"
            ]
          },
          "metadata": {
            "tags": []
          },
          "execution_count": 28
        }
      ]
    },
    {
      "cell_type": "markdown",
      "metadata": {
        "id": "5A6EsgxlD5Jq"
      },
      "source": [
        "\n",
        "\n",
        "```\n",
        "Transformação do para string outro exemplo\n",
        "```\n",
        "\n"
      ]
    },
    {
      "cell_type": "code",
      "metadata": {
        "id": "YJAi4YBND3wR"
      },
      "source": [
        "# IndexToString\n",
        "from pyspark.ml.feature import IndexToString"
      ],
      "execution_count": 29,
      "outputs": []
    },
    {
      "cell_type": "code",
      "metadata": {
        "id": "RuAHSRpsEaiZ"
      },
      "source": [
        "# Aqui podemos perceber que o .fit(df) não foi aplicado\n",
        "converter = IndexToString(inputCol='code_category',outputCol='orig_Category')"
      ],
      "execution_count": 30,
      "outputs": []
    },
    {
      "cell_type": "code",
      "metadata": {
        "id": "dzfxtDArEewa"
      },
      "source": [
        "df_convertido = converter.transform(df)"
      ],
      "execution_count": 31,
      "outputs": []
    },
    {
      "cell_type": "code",
      "metadata": {
        "colab": {
          "base_uri": "https://localhost:8080/"
        },
        "id": "Ef-ZFMt5Eimi",
        "outputId": "db9af3af-957a-47ff-e059-8fbd8769570b"
      },
      "source": [
        "df_convertido.show(4)"
      ],
      "execution_count": 32,
      "outputs": [
        {
          "output_type": "stream",
          "text": [
            "+---+---+----+----+----+----+----+-----+----+-----+----+----+-------------+------------+-------------+-------------+\n",
            "|Age|Sex| ALB| ALP| ALT| AST| BIL|  CHE|CHOL| CREA| GGT|PROT|     Category|sex_nemerico|code_category|orig_Category|\n",
            "+---+---+----+----+----+----+----+-----+----+-----+----+----+-------------+------------+-------------+-------------+\n",
            "| 32|  m|38.5|52.5| 7.7|22.1| 7.5| 6.93|3.23|106.0|12.1|  69|0=Blood Donor|         0.0|          0.0|0=Blood Donor|\n",
            "| 32|  m|38.5|70.3|  18|24.7| 3.9|11.17| 4.8| 74.0|15.6|76.5|0=Blood Donor|         0.0|          0.0|0=Blood Donor|\n",
            "| 32|  m|46.9|74.7|36.2|52.6| 6.1| 8.84| 5.2| 86.0|33.2|79.3|0=Blood Donor|         0.0|          0.0|0=Blood Donor|\n",
            "| 32|  m|43.2|  52|30.6|22.6|18.9| 7.33|4.74| 80.0|33.8|75.7|0=Blood Donor|         0.0|          0.0|0=Blood Donor|\n",
            "+---+---+----+----+----+----+----+-----+----+-----+----+----+-------------+------------+-------------+-------------+\n",
            "only showing top 4 rows\n",
            "\n"
          ],
          "name": "stdout"
        }
      ]
    },
    {
      "cell_type": "markdown",
      "metadata": {
        "id": "86x2X4WUEn1g"
      },
      "source": [
        "\n",
        "\n",
        "```\n",
        "fim exemplo de transformação do para string\n",
        "```\n",
        "\n"
      ]
    },
    {
      "cell_type": "code",
      "metadata": {
        "colab": {
          "base_uri": "https://localhost:8080/"
        },
        "id": "iLe2G8iNE2F7",
        "outputId": "c725bc9b-32ec-41b5-dffa-30dd740b6058"
      },
      "source": [
        "### Feature \n",
        "df.show()"
      ],
      "execution_count": 33,
      "outputs": [
        {
          "output_type": "stream",
          "text": [
            "+---+---+----+----+----+----+----+-----+----+-----+----+----+-------------+------------+-------------+\n",
            "|Age|Sex| ALB| ALP| ALT| AST| BIL|  CHE|CHOL| CREA| GGT|PROT|     Category|sex_nemerico|code_category|\n",
            "+---+---+----+----+----+----+----+-----+----+-----+----+----+-------------+------------+-------------+\n",
            "| 32|  m|38.5|52.5| 7.7|22.1| 7.5| 6.93|3.23|106.0|12.1|  69|0=Blood Donor|         0.0|          0.0|\n",
            "| 32|  m|38.5|70.3|  18|24.7| 3.9|11.17| 4.8| 74.0|15.6|76.5|0=Blood Donor|         0.0|          0.0|\n",
            "| 32|  m|46.9|74.7|36.2|52.6| 6.1| 8.84| 5.2| 86.0|33.2|79.3|0=Blood Donor|         0.0|          0.0|\n",
            "| 32|  m|43.2|  52|30.6|22.6|18.9| 7.33|4.74| 80.0|33.8|75.7|0=Blood Donor|         0.0|          0.0|\n",
            "| 32|  m|39.2|74.1|32.6|24.8| 9.6| 9.15|4.32| 76.0|29.9|68.7|0=Blood Donor|         0.0|          0.0|\n",
            "| 32|  m|41.6|43.3|18.5|19.7|12.3| 9.92|6.05|111.0|91.0|  74|0=Blood Donor|         0.0|          0.0|\n",
            "| 32|  m|46.3|41.3|17.5|17.8| 8.5| 7.01|4.79| 70.0|16.9|74.5|0=Blood Donor|         0.0|          0.0|\n",
            "| 32|  m|42.2|41.9|35.8|31.1|16.1| 5.82| 4.6|109.0|21.5|67.1|0=Blood Donor|         0.0|          0.0|\n",
            "| 32|  m|50.9|65.5|23.2|21.2| 6.9| 8.69| 4.1| 83.0|13.7|71.3|0=Blood Donor|         0.0|          0.0|\n",
            "| 32|  m|42.4|86.3|20.3|20.0|35.2| 5.46|4.45| 81.0|15.9|69.9|0=Blood Donor|         0.0|          0.0|\n",
            "| 32|  m|44.3|52.3|21.7|22.4|17.2| 4.15|3.57| 78.0|24.1|75.4|0=Blood Donor|         0.0|          0.0|\n",
            "| 33|  m|46.4|68.2|10.3|20.0| 5.7| 7.36| 4.3| 79.0|18.7|68.6|0=Blood Donor|         0.0|          0.0|\n",
            "| 33|  m|36.3|78.6|23.6|22.0| 7.0| 8.56|5.38| 78.0|19.4|68.7|0=Blood Donor|         0.0|          0.0|\n",
            "| 33|  m|  39|51.7|15.9|24.0| 6.8| 6.46|3.38| 65.0| 7.0|70.4|0=Blood Donor|         0.0|          0.0|\n",
            "| 33|  m|38.7|39.8|22.5|23.0| 4.1| 4.63|4.97| 63.0|15.2|71.9|0=Blood Donor|         0.0|          0.0|\n",
            "| 33|  m|41.8|  65|33.1|38.0| 6.6| 8.83|4.43| 71.0|24.0|72.7|0=Blood Donor|         0.0|          0.0|\n",
            "| 33|  m|40.9|  73|17.2|22.9|10.0| 6.98|5.22| 90.0|14.7|72.4|0=Blood Donor|         0.0|          0.0|\n",
            "| 33|  m|45.2|88.3|32.4|31.2|10.1| 9.78|5.51|102.0|48.5|76.5|0=Blood Donor|         0.0|          0.0|\n",
            "| 33|  m|36.6|57.1|38.9|40.3|24.9| 9.62| 5.5|112.0|27.6|69.3|0=Blood Donor|         0.0|          0.0|\n",
            "| 33|  m|  42|63.1|32.6|34.9|11.2| 7.01|4.05|105.0|19.1|68.1|0=Blood Donor|         0.0|          0.0|\n",
            "+---+---+----+----+----+----+----+-----+----+-----+----+----+-------------+------------+-------------+\n",
            "only showing top 20 rows\n",
            "\n"
          ],
          "name": "stdout"
        }
      ]
    },
    {
      "cell_type": "code",
      "metadata": {
        "colab": {
          "base_uri": "https://localhost:8080/"
        },
        "id": "ixQ9kFx6E9YF",
        "outputId": "29fd08d4-3ca8-4278-8d7e-6c8f76c2a14f"
      },
      "source": [
        "print(df.columns)"
      ],
      "execution_count": 34,
      "outputs": [
        {
          "output_type": "stream",
          "text": [
            "['Age', 'Sex', 'ALB', 'ALP', 'ALT', 'AST', 'BIL', 'CHE', 'CHOL', 'CREA', 'GGT', 'PROT', 'Category', 'sex_nemerico', 'code_category']\n"
          ],
          "name": "stdout"
        }
      ]
    },
    {
      "cell_type": "code",
      "metadata": {
        "colab": {
          "base_uri": "https://localhost:8080/"
        },
        "id": "ZNsPGnhZFBZJ",
        "outputId": "3e72df4a-9bef-4117-ebb5-3f064d621622"
      },
      "source": [
        "df.dtypes"
      ],
      "execution_count": 35,
      "outputs": [
        {
          "output_type": "execute_result",
          "data": {
            "text/plain": [
              "[('Age', 'int'),\n",
              " ('Sex', 'string'),\n",
              " ('ALB', 'string'),\n",
              " ('ALP', 'string'),\n",
              " ('ALT', 'string'),\n",
              " ('AST', 'double'),\n",
              " ('BIL', 'double'),\n",
              " ('CHE', 'double'),\n",
              " ('CHOL', 'string'),\n",
              " ('CREA', 'double'),\n",
              " ('GGT', 'double'),\n",
              " ('PROT', 'string'),\n",
              " ('Category', 'string'),\n",
              " ('sex_nemerico', 'double'),\n",
              " ('code_category', 'double')]"
            ]
          },
          "metadata": {
            "tags": []
          },
          "execution_count": 35
        }
      ]
    },
    {
      "cell_type": "markdown",
      "metadata": {
        "id": "8Da5m-kbFHuD"
      },
      "source": [
        "\n",
        "\n",
        "```\n",
        "Verificação após transformação dos Valores string para Numéricos (valor numericos atribuidos para cada string transformado)\n",
        "```\n",
        "\n"
      ]
    },
    {
      "cell_type": "code",
      "metadata": {
        "colab": {
          "base_uri": "https://localhost:8080/"
        },
        "id": "D74v-2z_FHHp",
        "outputId": "3ffd7f50-d720-40c6-ef4f-ea82b450e572"
      },
      "source": [
        "df.select(\"Sex\",\"sex_nemerico\").distinct().show()"
      ],
      "execution_count": 36,
      "outputs": [
        {
          "output_type": "stream",
          "text": [
            "+---+------------+\n",
            "|Sex|sex_nemerico|\n",
            "+---+------------+\n",
            "|  f|         1.0|\n",
            "|  m|         0.0|\n",
            "+---+------------+\n",
            "\n"
          ],
          "name": "stdout"
        }
      ]
    },
    {
      "cell_type": "code",
      "metadata": {
        "colab": {
          "base_uri": "https://localhost:8080/"
        },
        "id": "KWR1L3miFTna",
        "outputId": "75d6f67c-f910-4d61-d75b-bf4da9f31d10"
      },
      "source": [
        "df.select(\"Category\",\"code_category\").distinct().show()"
      ],
      "execution_count": 38,
      "outputs": [
        {
          "output_type": "stream",
          "text": [
            "+--------------------+-------------+\n",
            "|            Category|code_category|\n",
            "+--------------------+-------------+\n",
            "|         1=Hepatitis|          2.0|\n",
            "|0s=suspect Blood ...|          4.0|\n",
            "|       0=Blood Donor|          0.0|\n",
            "|          2=Fibrosis|          3.0|\n",
            "|         3=Cirrhosis|          1.0|\n",
            "+--------------------+-------------+\n",
            "\n"
          ],
          "name": "stdout"
        }
      ]
    },
    {
      "cell_type": "code",
      "metadata": {
        "id": "QnJWw74aFYTV"
      },
      "source": [
        "df2 = df.select('Age','sex_nemerico', 'ALB', 'ALP', 'ALT', 'AST', 'BIL', 'CHE', 'CHOL', 'CREA', 'GGT', 'PROT', 'code_category')"
      ],
      "execution_count": 39,
      "outputs": []
    },
    {
      "cell_type": "code",
      "metadata": {
        "colab": {
          "base_uri": "https://localhost:8080/"
        },
        "id": "ngdYXGEDFcEv",
        "outputId": "9c40121c-ea11-4b6a-edff-2eb387df5657"
      },
      "source": [
        "df2.printSchema()"
      ],
      "execution_count": 40,
      "outputs": [
        {
          "output_type": "stream",
          "text": [
            "root\n",
            " |-- Age: integer (nullable = true)\n",
            " |-- sex_nemerico: double (nullable = false)\n",
            " |-- ALB: string (nullable = true)\n",
            " |-- ALP: string (nullable = true)\n",
            " |-- ALT: string (nullable = true)\n",
            " |-- AST: double (nullable = true)\n",
            " |-- BIL: double (nullable = true)\n",
            " |-- CHE: double (nullable = true)\n",
            " |-- CHOL: string (nullable = true)\n",
            " |-- CREA: double (nullable = true)\n",
            " |-- GGT: double (nullable = true)\n",
            " |-- PROT: string (nullable = true)\n",
            " |-- code_category: double (nullable = false)\n",
            "\n"
          ],
          "name": "stdout"
        }
      ]
    },
    {
      "cell_type": "code",
      "metadata": {
        "id": "5UrJbcUpFhTn"
      },
      "source": [
        "#convert df2 to pandas DataFrame\n",
        "df2 = df2.toPandas()"
      ],
      "execution_count": 41,
      "outputs": []
    },
    {
      "cell_type": "code",
      "metadata": {
        "colab": {
          "base_uri": "https://localhost:8080/"
        },
        "id": "XW_HFRQmFlm3",
        "outputId": "444b3841-4ef7-463a-bda9-f38be532e37c"
      },
      "source": [
        "#ver quantidade de Nan em cada coluna\n",
        "#print(df2.isnull().sum()) \n",
        "print(df2.isna().sum())"
      ],
      "execution_count": 42,
      "outputs": [
        {
          "output_type": "stream",
          "text": [
            "Age              0\n",
            "sex_nemerico     0\n",
            "ALB              0\n",
            "ALP              0\n",
            "ALT              0\n",
            "AST              0\n",
            "BIL              0\n",
            "CHE              0\n",
            "CHOL             0\n",
            "CREA             0\n",
            "GGT              0\n",
            "PROT             0\n",
            "code_category    0\n",
            "dtype: int64\n"
          ],
          "name": "stdout"
        }
      ]
    },
    {
      "cell_type": "code",
      "metadata": {
        "id": "Yn4NIRcIFrCD"
      },
      "source": [
        "# se tivesse valor null podemos:\n",
        "# substituir nan por 0 no dataframe inteiro ou atribuir um valor usando algumas funç~es estatisticas\n",
        "# df2.fillna(0)\n",
        "# substituir nan por 0 em uma coluna especifica ou atribuir um valor usando algumas funç~es estatisticas\n",
        "# df2.fillna(0,subset=['nome_da_coluna']"
      ],
      "execution_count": 43,
      "outputs": []
    },
    {
      "cell_type": "code",
      "metadata": {
        "id": "RCKYVVdLFtCi"
      },
      "source": [
        "df2 = df2.replace('NA',0).astype(float)"
      ],
      "execution_count": 44,
      "outputs": []
    },
    {
      "cell_type": "code",
      "metadata": {
        "colab": {
          "base_uri": "https://localhost:8080/"
        },
        "id": "7-Xs0smvFzh1",
        "outputId": "c03dd201-34e1-4f19-9568-1a19ffe96e18"
      },
      "source": [
        "print(df.columns)"
      ],
      "execution_count": 45,
      "outputs": [
        {
          "output_type": "stream",
          "text": [
            "['Age', 'Sex', 'ALB', 'ALP', 'ALT', 'AST', 'BIL', 'CHE', 'CHOL', 'CREA', 'GGT', 'PROT', 'Category', 'sex_nemerico', 'code_category']\n"
          ],
          "name": "stdout"
        }
      ]
    },
    {
      "cell_type": "code",
      "metadata": {
        "colab": {
          "base_uri": "https://localhost:8080/"
        },
        "id": "d4hAXOFeF3fO",
        "outputId": "a8993ebc-8a54-46eb-9188-5c9cad4dceaf"
      },
      "source": [
        "type(df2)"
      ],
      "execution_count": 46,
      "outputs": [
        {
          "output_type": "execute_result",
          "data": {
            "text/plain": [
              "pandas.core.frame.DataFrame"
            ]
          },
          "metadata": {
            "tags": []
          },
          "execution_count": 46
        }
      ]
    },
    {
      "cell_type": "code",
      "metadata": {
        "colab": {
          "base_uri": "https://localhost:8080/"
        },
        "id": "bnHof82aF7Zw",
        "outputId": "5e27d459-d334-4b02-e53a-f774104daba1"
      },
      "source": [
        "type(df)"
      ],
      "execution_count": 47,
      "outputs": [
        {
          "output_type": "execute_result",
          "data": {
            "text/plain": [
              "pyspark.sql.dataframe.DataFrame"
            ]
          },
          "metadata": {
            "tags": []
          },
          "execution_count": 47
        }
      ]
    },
    {
      "cell_type": "code",
      "metadata": {
        "id": "0xZ1L_t7GDD1"
      },
      "source": [
        "# Convert To PySpark Dataframe\n",
        "new_df2 = spark.createDataFrame(df2)"
      ],
      "execution_count": 48,
      "outputs": []
    },
    {
      "cell_type": "code",
      "metadata": {
        "id": "-SSuWtm6GJGm"
      },
      "source": [
        "#Ajustando o dataframe selecionando os features\n",
        "features = ['Age', 'sex_nemerico', 'ALB', 'ALP', 'ALT', 'AST', 'BIL', 'CHE', 'CHOL', 'CREA', 'GGT', 'PROT' ,'code_category']"
      ],
      "execution_count": 49,
      "outputs": []
    },
    {
      "cell_type": "code",
      "metadata": {
        "colab": {
          "base_uri": "https://localhost:8080/"
        },
        "id": "-virJg_ZGXKq",
        "outputId": "3efab705-9042-4fbc-8d8f-a561f58f0be6"
      },
      "source": [
        "#bibliotecas do (pyspark.ml.feature)\n",
        "dir(pyspark.ml.feature)"
      ],
      "execution_count": 50,
      "outputs": [
        {
          "output_type": "execute_result",
          "data": {
            "text/plain": [
              "['Binarizer',\n",
              " 'BucketedRandomProjectionLSH',\n",
              " 'BucketedRandomProjectionLSHModel',\n",
              " 'Bucketizer',\n",
              " 'ChiSqSelector',\n",
              " 'ChiSqSelectorModel',\n",
              " 'CountVectorizer',\n",
              " 'CountVectorizerModel',\n",
              " 'DCT',\n",
              " 'ElementwiseProduct',\n",
              " 'FeatureHasher',\n",
              " 'HasFeaturesCol',\n",
              " 'HasHandleInvalid',\n",
              " 'HasInputCol',\n",
              " 'HasInputCols',\n",
              " 'HasLabelCol',\n",
              " 'HasMaxIter',\n",
              " 'HasNumFeatures',\n",
              " 'HasOutputCol',\n",
              " 'HasOutputCols',\n",
              " 'HasRelativeError',\n",
              " 'HasSeed',\n",
              " 'HasStepSize',\n",
              " 'HasThreshold',\n",
              " 'HasThresholds',\n",
              " 'HashingTF',\n",
              " 'IDF',\n",
              " 'IDFModel',\n",
              " 'Imputer',\n",
              " 'ImputerModel',\n",
              " 'IndexToString',\n",
              " 'Interaction',\n",
              " 'JavaEstimator',\n",
              " 'JavaMLReadable',\n",
              " 'JavaMLWritable',\n",
              " 'JavaModel',\n",
              " 'JavaParams',\n",
              " 'JavaTransformer',\n",
              " 'MaxAbsScaler',\n",
              " 'MaxAbsScalerModel',\n",
              " 'MinHashLSH',\n",
              " 'MinHashLSHModel',\n",
              " 'MinMaxScaler',\n",
              " 'MinMaxScalerModel',\n",
              " 'NGram',\n",
              " 'Normalizer',\n",
              " 'OneHotEncoder',\n",
              " 'OneHotEncoderModel',\n",
              " 'PCA',\n",
              " 'PCAModel',\n",
              " 'Param',\n",
              " 'Params',\n",
              " 'PolynomialExpansion',\n",
              " 'QuantileDiscretizer',\n",
              " 'RFormula',\n",
              " 'RFormulaModel',\n",
              " 'RegexTokenizer',\n",
              " 'RobustScaler',\n",
              " 'RobustScalerModel',\n",
              " 'SQLTransformer',\n",
              " 'SparkContext',\n",
              " 'StandardScaler',\n",
              " 'StandardScalerModel',\n",
              " 'StopWordsRemover',\n",
              " 'StringIndexer',\n",
              " 'StringIndexerModel',\n",
              " 'Tokenizer',\n",
              " 'TypeConverters',\n",
              " 'UnivariateFeatureSelector',\n",
              " 'UnivariateFeatureSelectorModel',\n",
              " 'VarianceThresholdSelector',\n",
              " 'VarianceThresholdSelectorModel',\n",
              " 'VectorAssembler',\n",
              " 'VectorIndexer',\n",
              " 'VectorIndexerModel',\n",
              " 'VectorSizeHint',\n",
              " 'VectorSlicer',\n",
              " 'Word2Vec',\n",
              " 'Word2VecModel',\n",
              " '_BucketedRandomProjectionLSHParams',\n",
              " '_CountVectorizerParams',\n",
              " '_IDFParams',\n",
              " '_ImputerParams',\n",
              " '_LSH',\n",
              " '_LSHModel',\n",
              " '_LSHParams',\n",
              " '_MaxAbsScalerParams',\n",
              " '_MinMaxScalerParams',\n",
              " '_OneHotEncoderParams',\n",
              " '_PCAParams',\n",
              " '_RFormulaParams',\n",
              " '_RobustScalerParams',\n",
              " '_Selector',\n",
              " '_SelectorModel',\n",
              " '_SelectorParams',\n",
              " '_StandardScalerParams',\n",
              " '_StringIndexerParams',\n",
              " '_UnivariateFeatureSelectorParams',\n",
              " '_VarianceThresholdSelectorParams',\n",
              " '_VectorIndexerParams',\n",
              " '_Word2VecParams',\n",
              " '__all__',\n",
              " '__builtins__',\n",
              " '__cached__',\n",
              " '__doc__',\n",
              " '__file__',\n",
              " '__loader__',\n",
              " '__name__',\n",
              " '__package__',\n",
              " '__spec__',\n",
              " '_convert_to_vector',\n",
              " '_jvm',\n",
              " 'inherit_doc',\n",
              " 'keyword_only',\n",
              " 'since']"
            ]
          },
          "metadata": {
            "tags": []
          },
          "execution_count": 50
        }
      ]
    },
    {
      "cell_type": "markdown",
      "metadata": {
        "id": "MjiygQiMGdKb"
      },
      "source": [
        "\n",
        "\n",
        "```\n",
        "Dentor do dir(pyspark.ml.feature) temos o \"VectorAssembler\". (VectorAssembler é um transformador que combina uma determinada lista de colunas em uma única coluna de vetor)\n",
        "```\n",
        "\n"
      ]
    },
    {
      "cell_type": "code",
      "metadata": {
        "id": "lVdbB3fsGiUj"
      },
      "source": [
        "from pyspark.ml.feature import VectorAssembler"
      ],
      "execution_count": 51,
      "outputs": []
    },
    {
      "cell_type": "markdown",
      "metadata": {
        "id": "eVw5SPC4Gob8"
      },
      "source": [
        "### Iniciando a vectorização\n",
        "VectorAssembler é um transformador que combina uma determinada lista de colunas em uma única coluna de vetor. É útil para combinar recursos brutos e recursos gerados por diferentes transformadores de recursos em um único vetor de recursos, a fim de treinar modelos de ML, como regressão logística e árvores de decisão. VectorAssembler aceita os seguintes tipos de coluna de entrada: todos os tipos numéricos, tipo booleano e tipo de vetor. Em cada linha, os valores das colunas de entrada serão concatenados em um vetor na ordem especificada."
      ]
    },
    {
      "cell_type": "code",
      "metadata": {
        "id": "gwkNFePYGqIS"
      },
      "source": [
        "#Vetorização \n",
        "vec_assembler = VectorAssembler(inputCols = features,outputCol='features')"
      ],
      "execution_count": 52,
      "outputs": []
    },
    {
      "cell_type": "code",
      "metadata": {
        "id": "LvjQ75OYGzEq"
      },
      "source": [
        "vec_df = vec_assembler.transform(new_df2)"
      ],
      "execution_count": 53,
      "outputs": []
    },
    {
      "cell_type": "code",
      "metadata": {
        "colab": {
          "base_uri": "https://localhost:8080/"
        },
        "id": "GAB2pQeHG36s",
        "outputId": "73d0cbdf-fd79-4771-c0da-595196e07f9a"
      },
      "source": [
        "vec_df.show(3)"
      ],
      "execution_count": 54,
      "outputs": [
        {
          "output_type": "stream",
          "text": [
            "+----+------------+----+----+----+----+---+-----+----+-----+----+----+-------------+--------------------+\n",
            "| Age|sex_nemerico| ALB| ALP| ALT| AST|BIL|  CHE|CHOL| CREA| GGT|PROT|code_category|            features|\n",
            "+----+------------+----+----+----+----+---+-----+----+-----+----+----+-------------+--------------------+\n",
            "|32.0|         0.0|38.5|52.5| 7.7|22.1|7.5| 6.93|3.23|106.0|12.1|69.0|          0.0|[32.0,0.0,38.5,52...|\n",
            "|32.0|         0.0|38.5|70.3|18.0|24.7|3.9|11.17| 4.8| 74.0|15.6|76.5|          0.0|[32.0,0.0,38.5,70...|\n",
            "|32.0|         0.0|46.9|74.7|36.2|52.6|6.1| 8.84| 5.2| 86.0|33.2|79.3|          0.0|[32.0,0.0,46.9,74...|\n",
            "+----+------------+----+----+----+----+---+-----+----+-----+----+----+-------------+--------------------+\n",
            "only showing top 3 rows\n",
            "\n"
          ],
          "name": "stdout"
        }
      ]
    },
    {
      "cell_type": "markdown",
      "metadata": {
        "id": "t3Chy8MhHfmE"
      },
      "source": [
        "## Train,Test Split"
      ]
    },
    {
      "cell_type": "code",
      "metadata": {
        "id": "ljz1C404HjAt"
      },
      "source": [
        "# vamos treinar e testar os dados\n",
        "# (Pegar uma amostra de 70% para treinar) e (uma amostra 30% para testar)\n",
        "train_df,test_df = vec_df.randomSplit([0.7,0.3])"
      ],
      "execution_count": 55,
      "outputs": []
    },
    {
      "cell_type": "code",
      "metadata": {
        "colab": {
          "base_uri": "https://localhost:8080/"
        },
        "id": "gpltny5uLVC9",
        "outputId": "e22135d8-a5dc-4105-8ae7-969781fe8b4d"
      },
      "source": [
        "train_df.count()"
      ],
      "execution_count": 56,
      "outputs": [
        {
          "output_type": "execute_result",
          "data": {
            "text/plain": [
              "421"
            ]
          },
          "metadata": {
            "tags": []
          },
          "execution_count": 56
        }
      ]
    },
    {
      "cell_type": "code",
      "metadata": {
        "colab": {
          "base_uri": "https://localhost:8080/"
        },
        "id": "OyQpySO_MZvb",
        "outputId": "f0eb6ab2-2d37-445e-c54c-189fe5da6673"
      },
      "source": [
        "train_df.show(4)"
      ],
      "execution_count": 57,
      "outputs": [
        {
          "output_type": "stream",
          "text": [
            "+----+------------+----+----+----+----+----+-----+----+-----+----+----+-------------+--------------------+\n",
            "| Age|sex_nemerico| ALB| ALP| ALT| AST| BIL|  CHE|CHOL| CREA| GGT|PROT|code_category|            features|\n",
            "+----+------------+----+----+----+----+----+-----+----+-----+----+----+-------------+--------------------+\n",
            "|32.0|         0.0|38.5|52.5| 7.7|22.1| 7.5| 6.93|3.23|106.0|12.1|69.0|          0.0|[32.0,0.0,38.5,52...|\n",
            "|32.0|         0.0|38.5|70.3|18.0|24.7| 3.9|11.17| 4.8| 74.0|15.6|76.5|          0.0|[32.0,0.0,38.5,70...|\n",
            "|32.0|         0.0|39.2|74.1|32.6|24.8| 9.6| 9.15|4.32| 76.0|29.9|68.7|          0.0|[32.0,0.0,39.2,74...|\n",
            "|32.0|         0.0|41.6|43.3|18.5|19.7|12.3| 9.92|6.05|111.0|91.0|74.0|          0.0|[32.0,0.0,41.6,43...|\n",
            "+----+------------+----+----+----+----+----+-----+----+-----+----+----+-------------+--------------------+\n",
            "only showing top 4 rows\n",
            "\n"
          ],
          "name": "stdout"
        }
      ]
    },
    {
      "cell_type": "code",
      "metadata": {
        "colab": {
          "base_uri": "https://localhost:8080/"
        },
        "id": "v8W7NOjUMtKd",
        "outputId": "225d0ef2-9968-41b9-af30-18d6529c4bd1"
      },
      "source": [
        "test_df.count()"
      ],
      "execution_count": 58,
      "outputs": [
        {
          "output_type": "execute_result",
          "data": {
            "text/plain": [
              "194"
            ]
          },
          "metadata": {
            "tags": []
          },
          "execution_count": 58
        }
      ]
    },
    {
      "cell_type": "code",
      "metadata": {
        "colab": {
          "base_uri": "https://localhost:8080/"
        },
        "id": "D3CZTGzZM6e1",
        "outputId": "3b22e510-5875-4693-a92d-dcfdc4b22066"
      },
      "source": [
        "test_df.show(4)"
      ],
      "execution_count": 59,
      "outputs": [
        {
          "output_type": "stream",
          "text": [
            "+----+------------+----+----+----+----+----+----+----+----+----+----+-------------+--------------------+\n",
            "| Age|sex_nemerico| ALB| ALP| ALT| AST| BIL| CHE|CHOL|CREA| GGT|PROT|code_category|            features|\n",
            "+----+------------+----+----+----+----+----+----+----+----+----+----+-------------+--------------------+\n",
            "|32.0|         0.0|42.4|86.3|20.3|20.0|35.2|5.46|4.45|81.0|15.9|69.9|          0.0|[32.0,0.0,42.4,86...|\n",
            "|32.0|         0.0|44.3|52.3|21.7|22.4|17.2|4.15|3.57|78.0|24.1|75.4|          0.0|[32.0,0.0,44.3,52...|\n",
            "|32.0|         0.0|46.3|41.3|17.5|17.8| 8.5|7.01|4.79|70.0|16.9|74.5|          0.0|[32.0,0.0,46.3,41...|\n",
            "|33.0|         0.0|46.7|88.3|23.4|23.9| 7.8|9.42|4.62|78.0|29.5|74.3|          0.0|[33.0,0.0,46.7,88...|\n",
            "+----+------------+----+----+----+----+----+----+----+----+----+----+-------------+--------------------+\n",
            "only showing top 4 rows\n",
            "\n"
          ],
          "name": "stdout"
        }
      ]
    },
    {
      "cell_type": "markdown",
      "metadata": {
        "id": "I-E9JLrAMk2U"
      },
      "source": [
        "#### Model Building\n",
        "+ Pyspark.ml: DataFrame\n",
        "+ Pyspark.mllib: RDD /Legacy"
      ]
    },
    {
      "cell_type": "code",
      "metadata": {
        "id": "Bmbs5DE9MkMT"
      },
      "source": [
        "import pyspark.ml.classification "
      ],
      "execution_count": 60,
      "outputs": []
    },
    {
      "cell_type": "code",
      "metadata": {
        "colab": {
          "base_uri": "https://localhost:8080/"
        },
        "id": "W_C3cU04N7an",
        "outputId": "354db60e-3e76-4481-b39b-d1b7504c9b9f"
      },
      "source": [
        "dir(pyspark.ml.classification)"
      ],
      "execution_count": 61,
      "outputs": [
        {
          "output_type": "execute_result",
          "data": {
            "text/plain": [
              "['ABCMeta',\n",
              " 'ArrayType',\n",
              " 'BinaryLogisticRegressionSummary',\n",
              " 'BinaryLogisticRegressionTrainingSummary',\n",
              " 'BinaryRandomForestClassificationSummary',\n",
              " 'BinaryRandomForestClassificationTrainingSummary',\n",
              " 'ClassificationModel',\n",
              " 'Classifier',\n",
              " 'DataFrame',\n",
              " 'DecisionTreeClassificationModel',\n",
              " 'DecisionTreeClassifier',\n",
              " 'DecisionTreeRegressionModel',\n",
              " 'DefaultParamsReader',\n",
              " 'DefaultParamsWriter',\n",
              " 'DoubleType',\n",
              " 'Estimator',\n",
              " 'FMClassificationModel',\n",
              " 'FMClassificationSummary',\n",
              " 'FMClassificationTrainingSummary',\n",
              " 'FMClassifier',\n",
              " 'GBTClassificationModel',\n",
              " 'GBTClassifier',\n",
              " 'HasAggregationDepth',\n",
              " 'HasBlockSize',\n",
              " 'HasElasticNetParam',\n",
              " 'HasFitIntercept',\n",
              " 'HasMaxBlockSizeInMB',\n",
              " 'HasMaxIter',\n",
              " 'HasParallelism',\n",
              " 'HasProbabilityCol',\n",
              " 'HasRawPredictionCol',\n",
              " 'HasRegParam',\n",
              " 'HasSeed',\n",
              " 'HasSolver',\n",
              " 'HasStandardization',\n",
              " 'HasStepSize',\n",
              " 'HasThreshold',\n",
              " 'HasThresholds',\n",
              " 'HasTol',\n",
              " 'HasTrainingSummary',\n",
              " 'HasWeightCol',\n",
              " 'JavaMLReadable',\n",
              " 'JavaMLReader',\n",
              " 'JavaMLWritable',\n",
              " 'JavaMLWriter',\n",
              " 'JavaParams',\n",
              " 'JavaPredictionModel',\n",
              " 'JavaPredictor',\n",
              " 'JavaWrapper',\n",
              " 'LinearSVC',\n",
              " 'LinearSVCModel',\n",
              " 'LinearSVCSummary',\n",
              " 'LinearSVCTrainingSummary',\n",
              " 'LogisticRegression',\n",
              " 'LogisticRegressionModel',\n",
              " 'LogisticRegressionSummary',\n",
              " 'LogisticRegressionTrainingSummary',\n",
              " 'MLReadable',\n",
              " 'MLReader',\n",
              " 'MLWritable',\n",
              " 'MLWriter',\n",
              " 'Model',\n",
              " 'MultilayerPerceptronClassificationModel',\n",
              " 'MultilayerPerceptronClassificationSummary',\n",
              " 'MultilayerPerceptronClassificationTrainingSummary',\n",
              " 'MultilayerPerceptronClassifier',\n",
              " 'NaiveBayes',\n",
              " 'NaiveBayesModel',\n",
              " 'OneVsRest',\n",
              " 'OneVsRestModel',\n",
              " 'OneVsRestModelReader',\n",
              " 'OneVsRestModelWriter',\n",
              " 'OneVsRestReader',\n",
              " 'OneVsRestWriter',\n",
              " 'Param',\n",
              " 'Params',\n",
              " 'PredictionModel',\n",
              " 'Predictor',\n",
              " 'ProbabilisticClassificationModel',\n",
              " 'ProbabilisticClassifier',\n",
              " 'RandomForestClassificationModel',\n",
              " 'RandomForestClassificationSummary',\n",
              " 'RandomForestClassificationTrainingSummary',\n",
              " 'RandomForestClassifier',\n",
              " 'SparkContext',\n",
              " 'StorageLevel',\n",
              " 'ThreadPool',\n",
              " 'TypeConverters',\n",
              " 'Vectors',\n",
              " '_BinaryClassificationSummary',\n",
              " '_ClassificationSummary',\n",
              " '_ClassifierParams',\n",
              " '_DecisionTreeClassifierParams',\n",
              " '_DecisionTreeModel',\n",
              " '_DecisionTreeParams',\n",
              " '_FactorizationMachinesParams',\n",
              " '_GBTClassifierParams',\n",
              " '_GBTParams',\n",
              " '_HasVarianceImpurity',\n",
              " '_JavaClassificationModel',\n",
              " '_JavaClassifier',\n",
              " '_JavaProbabilisticClassificationModel',\n",
              " '_JavaProbabilisticClassifier',\n",
              " '_LinearSVCParams',\n",
              " '_LogisticRegressionParams',\n",
              " '_MultilayerPerceptronParams',\n",
              " '_NaiveBayesParams',\n",
              " '_OneVsRestParams',\n",
              " '_OneVsRestSharedReadWrite',\n",
              " '_PredictorParams',\n",
              " '_ProbabilisticClassifierParams',\n",
              " '_RandomForestClassifierParams',\n",
              " '_RandomForestParams',\n",
              " '_TrainingSummary',\n",
              " '_TreeClassifierParams',\n",
              " '_TreeEnsembleModel',\n",
              " '__all__',\n",
              " '__builtins__',\n",
              " '__cached__',\n",
              " '__doc__',\n",
              " '__file__',\n",
              " '__loader__',\n",
              " '__name__',\n",
              " '__package__',\n",
              " '__spec__',\n",
              " 'abstractmethod',\n",
              " 'abstractproperty',\n",
              " 'inherit_doc',\n",
              " 'keyword_only',\n",
              " 'operator',\n",
              " 'os',\n",
              " 'since',\n",
              " 'sys',\n",
              " 'udf',\n",
              " 'uuid',\n",
              " 'warnings',\n",
              " 'when']"
            ]
          },
          "metadata": {
            "tags": []
          },
          "execution_count": 61
        }
      ]
    },
    {
      "cell_type": "markdown",
      "metadata": {
        "id": "PRI9MP1hPV1C"
      },
      "source": [
        "\n",
        "\n",
        "```\n",
        "Vamos trabalhar com LogisticRegression e DecisionTreeClassifier que estão dentro do dir(pyspark.ml.classification)\n",
        "```\n",
        "\n"
      ]
    },
    {
      "cell_type": "code",
      "metadata": {
        "id": "F9Rc7TgZPYaM"
      },
      "source": [
        "from pyspark.ml.classification import LogisticRegression, DecisionTreeClassifier"
      ],
      "execution_count": 62,
      "outputs": []
    },
    {
      "cell_type": "code",
      "metadata": {
        "id": "VDI4V72-PmZv"
      },
      "source": [
        "# Logist Model  \"code_categor\"\n",
        "lr = LogisticRegression(featuresCol='features',labelCol='code_category')"
      ],
      "execution_count": 63,
      "outputs": []
    },
    {
      "cell_type": "code",
      "metadata": {
        "id": "x75745v-RiM8"
      },
      "source": [
        "lr_model = lr.fit(train_df)"
      ],
      "execution_count": 64,
      "outputs": []
    },
    {
      "cell_type": "code",
      "metadata": {
        "id": "OiWS9R3mRoRL"
      },
      "source": [
        "y_pred = lr_model.transform(test_df)"
      ],
      "execution_count": 65,
      "outputs": []
    },
    {
      "cell_type": "code",
      "metadata": {
        "colab": {
          "base_uri": "https://localhost:8080/"
        },
        "id": "8Fer0Z9lRuvU",
        "outputId": "c415a269-5d49-4730-8175-ddbdc8ddc3b5"
      },
      "source": [
        "y_pred.show()"
      ],
      "execution_count": 66,
      "outputs": [
        {
          "output_type": "stream",
          "text": [
            "+----+------------+----+----+-----+----+----+-----+----+-----+----+----+-------------+--------------------+--------------------+--------------------+----------+\n",
            "| Age|sex_nemerico| ALB| ALP|  ALT| AST| BIL|  CHE|CHOL| CREA| GGT|PROT|code_category|            features|       rawPrediction|         probability|prediction|\n",
            "+----+------------+----+----+-----+----+----+-----+----+-----+----+----+-------------+--------------------+--------------------+--------------------+----------+\n",
            "|32.0|         0.0|42.4|86.3| 20.3|20.0|35.2| 5.46|4.45| 81.0|15.9|69.9|          0.0|[32.0,0.0,42.4,86...|[298.358428541305...|[1.0,5.4383518704...|       0.0|\n",
            "|32.0|         0.0|44.3|52.3| 21.7|22.4|17.2| 4.15|3.57| 78.0|24.1|75.4|          0.0|[32.0,0.0,44.3,52...|[267.337083767760...|[1.0,3.3529733569...|       0.0|\n",
            "|32.0|         0.0|46.3|41.3| 17.5|17.8| 8.5| 7.01|4.79| 70.0|16.9|74.5|          0.0|[32.0,0.0,46.3,41...|[357.252881608096...|[1.0,7.6961676367...|       0.0|\n",
            "|33.0|         0.0|46.7|88.3| 23.4|23.9| 7.8| 9.42|4.62| 78.0|29.5|74.3|          0.0|[33.0,0.0,46.7,88...|[400.737280147441...|[1.0,5.8163647386...|       0.0|\n",
            "|34.0|         0.0|29.0|41.6| 29.1|16.1| 4.8| 6.82|4.03| 62.0|14.5|53.2|          0.0|[34.0,0.0,29.0,41...|[283.219379253323...|[1.0,2.7642844938...|       0.0|\n",
            "|34.0|         0.0|44.6|84.1| 19.6|29.8| 5.8|  7.6|5.07| 95.0| 9.9|71.9|          0.0|[34.0,0.0,44.6,84...|[387.449735774959...|[1.0,3.4896239289...|       0.0|\n",
            "|34.0|         0.0|46.1|70.6| 35.8|30.0| 7.6|  7.7| 4.2| 93.0|14.3|78.7|          0.0|[34.0,0.0,46.1,70...|[349.885539420888...|[1.0,2.2379872133...|       0.0|\n",
            "|34.0|         0.0|46.8|61.7| 24.5|24.2|23.1|10.99| 4.6| 83.0|23.8|73.1|          0.0|[34.0,0.0,46.8,61...|[359.131773282828...|[1.0,5.3217324182...|       0.0|\n",
            "|35.0|         0.0|37.5|69.8| 37.1|25.0| 7.8|11.66|5.73| 84.0|27.3|71.0|          0.0|[35.0,0.0,37.5,69...|[383.735416688796...|[1.0,2.7862338387...|       0.0|\n",
            "|35.0|         0.0|44.5|70.3| 26.2|25.1| 5.1|10.12|4.69| 82.0|20.7|67.2|          0.0|[35.0,0.0,44.5,70...|[393.665218793983...|[1.0,3.8669686700...|       0.0|\n",
            "|35.0|         0.0|44.7|79.3| 53.5|30.8| 9.7|11.39|7.04| 88.0|77.3|77.1|          0.0|[35.0,0.0,44.7,79...|[371.893832612945...|[1.0,9.6746833227...|       0.0|\n",
            "|35.0|         0.0|47.4|54.5| 18.6|21.6|10.3|  8.1|6.23| 66.0|28.1|74.0|          0.0|[35.0,0.0,47.4,54...|[396.264130907269...|[1.0,9.1939689106...|       0.0|\n",
            "|36.0|         0.0|41.7|77.2|103.6|46.9|10.4|12.21|5.63| 88.0|20.9|69.3|          0.0|[36.0,0.0,41.7,77...|[339.951780240081...|[1.0,4.2419132103...|       0.0|\n",
            "|36.0|         0.0|42.4|47.3| 23.0|25.5| 6.1| 9.46|5.29| 79.0|17.5|73.8|          0.0|[36.0,0.0,42.4,47...|[370.673211407661...|[1.0,1.8817371422...|       0.0|\n",
            "|36.0|         0.0|42.6|65.3| 35.8|27.1|15.7|10.66|4.38| 96.0|34.7|71.0|          0.0|[36.0,0.0,42.6,65...|[332.097021587733...|[1.0,3.3337411080...|       0.0|\n",
            "|36.0|         0.0|46.1|58.5| 26.8|25.3| 6.0| 6.61|5.07| 71.0|10.5|79.6|          0.0|[36.0,0.0,46.1,58...|[374.395232737860...|[1.0,1.0994056691...|       0.0|\n",
            "|36.0|         0.0|48.7|65.0| 11.5|18.0| 7.4| 8.02|7.35| 69.0|14.2|73.4|          0.0|[36.0,0.0,48.7,65...|[465.933848818665...|[1.0,2.7614303117...|       0.0|\n",
            "|36.0|         0.0|53.0|66.4| 40.8|23.2| 7.5| 8.73|5.81| 75.0|36.1|77.3|          0.0|[36.0,0.0,53.0,66...|[415.659560640062...|[1.0,1.0201689025...|       0.0|\n",
            "|37.0|         0.0|41.5|64.6| 23.7|29.9| 9.3| 5.49|3.97|100.0|10.4|69.3|          0.0|[37.0,0.0,41.5,64...|[304.715396969291...|[1.0,7.1760946117...|       0.0|\n",
            "|37.0|         0.0|43.6|72.8| 51.4|43.7|13.8| 8.16|4.88| 70.0|94.5|75.2|          0.0|[37.0,0.0,43.6,72...|[238.688725645021...|[1.0,2.4104272737...|       0.0|\n",
            "+----+------------+----+----+-----+----+----+-----+----+-----+----+----+-------------+--------------------+--------------------+--------------------+----------+\n",
            "only showing top 20 rows\n",
            "\n"
          ],
          "name": "stdout"
        }
      ]
    },
    {
      "cell_type": "code",
      "metadata": {
        "colab": {
          "base_uri": "https://localhost:8080/"
        },
        "id": "O5iPqu97SDt9",
        "outputId": "5320da38-c444-483e-e460-63ea03ac6864"
      },
      "source": [
        "print(y_pred.columns)"
      ],
      "execution_count": 67,
      "outputs": [
        {
          "output_type": "stream",
          "text": [
            "['Age', 'sex_nemerico', 'ALB', 'ALP', 'ALT', 'AST', 'BIL', 'CHE', 'CHOL', 'CREA', 'GGT', 'PROT', 'code_category', 'features', 'rawPrediction', 'probability', 'prediction']\n"
          ],
          "name": "stdout"
        }
      ]
    },
    {
      "cell_type": "code",
      "metadata": {
        "colab": {
          "base_uri": "https://localhost:8080/"
        },
        "id": "W_uW7eJOSLS5",
        "outputId": "13b2b7a8-9d09-48ad-c90e-daaedce73054"
      },
      "source": [
        "y_pred.select('code_category','rawPrediction', 'probability', 'prediction').show()"
      ],
      "execution_count": 68,
      "outputs": [
        {
          "output_type": "stream",
          "text": [
            "+-------------+--------------------+--------------------+----------+\n",
            "|code_category|       rawPrediction|         probability|prediction|\n",
            "+-------------+--------------------+--------------------+----------+\n",
            "|          0.0|[298.358428541305...|[1.0,5.4383518704...|       0.0|\n",
            "|          0.0|[267.337083767760...|[1.0,3.3529733569...|       0.0|\n",
            "|          0.0|[357.252881608096...|[1.0,7.6961676367...|       0.0|\n",
            "|          0.0|[400.737280147441...|[1.0,5.8163647386...|       0.0|\n",
            "|          0.0|[283.219379253323...|[1.0,2.7642844938...|       0.0|\n",
            "|          0.0|[387.449735774959...|[1.0,3.4896239289...|       0.0|\n",
            "|          0.0|[349.885539420888...|[1.0,2.2379872133...|       0.0|\n",
            "|          0.0|[359.131773282828...|[1.0,5.3217324182...|       0.0|\n",
            "|          0.0|[383.735416688796...|[1.0,2.7862338387...|       0.0|\n",
            "|          0.0|[393.665218793983...|[1.0,3.8669686700...|       0.0|\n",
            "|          0.0|[371.893832612945...|[1.0,9.6746833227...|       0.0|\n",
            "|          0.0|[396.264130907269...|[1.0,9.1939689106...|       0.0|\n",
            "|          0.0|[339.951780240081...|[1.0,4.2419132103...|       0.0|\n",
            "|          0.0|[370.673211407661...|[1.0,1.8817371422...|       0.0|\n",
            "|          0.0|[332.097021587733...|[1.0,3.3337411080...|       0.0|\n",
            "|          0.0|[374.395232737860...|[1.0,1.0994056691...|       0.0|\n",
            "|          0.0|[465.933848818665...|[1.0,2.7614303117...|       0.0|\n",
            "|          0.0|[415.659560640062...|[1.0,1.0201689025...|       0.0|\n",
            "|          0.0|[304.715396969291...|[1.0,7.1760946117...|       0.0|\n",
            "|          0.0|[238.688725645021...|[1.0,2.4104272737...|       0.0|\n",
            "+-------------+--------------------+--------------------+----------+\n",
            "only showing top 20 rows\n",
            "\n"
          ],
          "name": "stdout"
        }
      ]
    },
    {
      "cell_type": "markdown",
      "metadata": {
        "id": "IPZ49rfCSkMW"
      },
      "source": [
        "## Model Evaluation"
      ]
    },
    {
      "cell_type": "code",
      "metadata": {
        "id": "1066-5AcTNO9"
      },
      "source": [
        "import pyspark.ml"
      ],
      "execution_count": 69,
      "outputs": []
    },
    {
      "cell_type": "code",
      "metadata": {
        "colab": {
          "base_uri": "https://localhost:8080/"
        },
        "id": "YuVAeIzrTTfQ",
        "outputId": "8ae64b0a-85d0-40ad-a4b1-5c8d2693544a"
      },
      "source": [
        "dir(pyspark.ml)"
      ],
      "execution_count": 70,
      "outputs": [
        {
          "output_type": "execute_result",
          "data": {
            "text/plain": [
              "['Estimator',\n",
              " 'Model',\n",
              " 'Pipeline',\n",
              " 'PipelineModel',\n",
              " 'PredictionModel',\n",
              " 'Predictor',\n",
              " 'Transformer',\n",
              " 'UnaryTransformer',\n",
              " '__all__',\n",
              " '__builtins__',\n",
              " '__cached__',\n",
              " '__doc__',\n",
              " '__file__',\n",
              " '__loader__',\n",
              " '__name__',\n",
              " '__package__',\n",
              " '__path__',\n",
              " '__spec__',\n",
              " 'base',\n",
              " 'classification',\n",
              " 'clustering',\n",
              " 'common',\n",
              " 'evaluation',\n",
              " 'feature',\n",
              " 'fpm',\n",
              " 'image',\n",
              " 'linalg',\n",
              " 'param',\n",
              " 'pipeline',\n",
              " 'recommendation',\n",
              " 'regression',\n",
              " 'stat',\n",
              " 'tree',\n",
              " 'tuning',\n",
              " 'util',\n",
              " 'wrapper']"
            ]
          },
          "metadata": {
            "tags": []
          },
          "execution_count": 70
        }
      ]
    },
    {
      "cell_type": "code",
      "metadata": {
        "colab": {
          "base_uri": "https://localhost:8080/"
        },
        "id": "Z0YdIS2YUDyX",
        "outputId": "c0358952-ff77-4192-c294-2d3bc461bd00"
      },
      "source": [
        "dir(pyspark.ml.evaluation)"
      ],
      "execution_count": 74,
      "outputs": [
        {
          "output_type": "execute_result",
          "data": {
            "text/plain": [
              "['ABCMeta',\n",
              " 'BinaryClassificationEvaluator',\n",
              " 'ClusteringEvaluator',\n",
              " 'Evaluator',\n",
              " 'HasFeaturesCol',\n",
              " 'HasLabelCol',\n",
              " 'HasPredictionCol',\n",
              " 'HasProbabilityCol',\n",
              " 'HasRawPredictionCol',\n",
              " 'HasWeightCol',\n",
              " 'JavaEvaluator',\n",
              " 'JavaMLReadable',\n",
              " 'JavaMLWritable',\n",
              " 'JavaParams',\n",
              " 'MulticlassClassificationEvaluator',\n",
              " 'MultilabelClassificationEvaluator',\n",
              " 'Param',\n",
              " 'Params',\n",
              " 'RankingEvaluator',\n",
              " 'RegressionEvaluator',\n",
              " 'TypeConverters',\n",
              " '__all__',\n",
              " '__builtins__',\n",
              " '__cached__',\n",
              " '__doc__',\n",
              " '__file__',\n",
              " '__loader__',\n",
              " '__name__',\n",
              " '__package__',\n",
              " '__spec__',\n",
              " 'abstractmethod',\n",
              " 'inherit_doc',\n",
              " 'keyword_only',\n",
              " 'since',\n",
              " 'sys']"
            ]
          },
          "metadata": {
            "tags": []
          },
          "execution_count": 74
        }
      ]
    },
    {
      "cell_type": "markdown",
      "metadata": {
        "id": "LcUaJT8mUVtK"
      },
      "source": [
        "\n",
        "\n",
        "```\n",
        "Vamos usar MulticlassClassificationEvaluator que está dentro do dir(pyspark.ml.evaluation)\n",
        "```\n",
        "\n"
      ]
    },
    {
      "cell_type": "code",
      "metadata": {
        "id": "yxZkwAVMSmsn"
      },
      "source": [
        "from pyspark.ml.evaluation import MulticlassClassificationEvaluator"
      ],
      "execution_count": 72,
      "outputs": []
    },
    {
      "cell_type": "code",
      "metadata": {
        "id": "qC04GpeaT3Wu"
      },
      "source": [
        "# How to Check For Accuracy\n",
        "multi_evaluator = MulticlassClassificationEvaluator(labelCol='code_category',metricName='accuracy')"
      ],
      "execution_count": 73,
      "outputs": []
    },
    {
      "cell_type": "code",
      "metadata": {
        "colab": {
          "base_uri": "https://localhost:8080/"
        },
        "id": "pVAxZuZ9UtHl",
        "outputId": "09b3afe8-7cdd-4262-fd49-587d0ac3c406"
      },
      "source": [
        "multi_evaluator.evaluate(y_pred)"
      ],
      "execution_count": 75,
      "outputs": [
        {
          "output_type": "execute_result",
          "data": {
            "text/plain": [
              "0.979381443298969"
            ]
          },
          "metadata": {
            "tags": []
          },
          "execution_count": 75
        }
      ]
    },
    {
      "cell_type": "markdown",
      "metadata": {
        "id": "0PidFGIJWOuQ"
      },
      "source": [
        "\n",
        "\n",
        "### Precision,F1 Score,Recall : Classification Report\n",
        "\n",
        "\n"
      ]
    },
    {
      "cell_type": "code",
      "metadata": {
        "colab": {
          "base_uri": "https://localhost:8080/"
        },
        "id": "sBBkfyuWVVRt",
        "outputId": "f7e9248c-585e-4277-9bd9-1cfb21a39337"
      },
      "source": [
        "dir(pyspark.mllib.evaluation)"
      ],
      "execution_count": 78,
      "outputs": [
        {
          "output_type": "execute_result",
          "data": {
            "text/plain": [
              "['ArrayType',\n",
              " 'BinaryClassificationMetrics',\n",
              " 'DoubleType',\n",
              " 'JavaModelWrapper',\n",
              " 'MulticlassMetrics',\n",
              " 'MultilabelMetrics',\n",
              " 'RankingMetrics',\n",
              " 'RegressionMetrics',\n",
              " 'SQLContext',\n",
              " 'StructField',\n",
              " 'StructType',\n",
              " '__all__',\n",
              " '__builtins__',\n",
              " '__cached__',\n",
              " '__doc__',\n",
              " '__file__',\n",
              " '__loader__',\n",
              " '__name__',\n",
              " '__package__',\n",
              " '__spec__',\n",
              " '_test',\n",
              " 'callMLlibFunc',\n",
              " 'since',\n",
              " 'sys']"
            ]
          },
          "metadata": {
            "tags": []
          },
          "execution_count": 78
        }
      ]
    },
    {
      "cell_type": "markdown",
      "metadata": {
        "id": "MGGNS6FiVciV"
      },
      "source": [
        "\n",
        "\n",
        "```\n",
        "Vamos usar MulticlassMetrics que está dentro do dir(pyspark.mllib.evaluation)\n",
        "```\n",
        "\n"
      ]
    },
    {
      "cell_type": "code",
      "metadata": {
        "id": "qukEqx9nVNK-"
      },
      "source": [
        "from pyspark.mllib.evaluation import MulticlassMetrics"
      ],
      "execution_count": 79,
      "outputs": []
    },
    {
      "cell_type": "code",
      "metadata": {
        "id": "HtcCKyqLVypF"
      },
      "source": [
        "lr_metric = MulticlassMetrics(y_pred['code_category', 'prediction'].rdd)"
      ],
      "execution_count": 81,
      "outputs": []
    },
    {
      "cell_type": "code",
      "metadata": {
        "colab": {
          "base_uri": "https://localhost:8080/"
        },
        "id": "MF1P4eRFV-Zs",
        "outputId": "0c5ace0f-badb-4572-a0c8-f1ef30d80f52"
      },
      "source": [
        "dir(lr_metric)"
      ],
      "execution_count": 82,
      "outputs": [
        {
          "output_type": "execute_result",
          "data": {
            "text/plain": [
              "['__class__',\n",
              " '__del__',\n",
              " '__delattr__',\n",
              " '__dict__',\n",
              " '__dir__',\n",
              " '__doc__',\n",
              " '__eq__',\n",
              " '__format__',\n",
              " '__ge__',\n",
              " '__getattribute__',\n",
              " '__gt__',\n",
              " '__hash__',\n",
              " '__init__',\n",
              " '__init_subclass__',\n",
              " '__le__',\n",
              " '__lt__',\n",
              " '__module__',\n",
              " '__ne__',\n",
              " '__new__',\n",
              " '__reduce__',\n",
              " '__reduce_ex__',\n",
              " '__repr__',\n",
              " '__setattr__',\n",
              " '__sizeof__',\n",
              " '__str__',\n",
              " '__subclasshook__',\n",
              " '__weakref__',\n",
              " '_java_model',\n",
              " '_sc',\n",
              " 'accuracy',\n",
              " 'call',\n",
              " 'confusionMatrix',\n",
              " 'fMeasure',\n",
              " 'falsePositiveRate',\n",
              " 'logLoss',\n",
              " 'precision',\n",
              " 'recall',\n",
              " 'truePositiveRate',\n",
              " 'weightedFMeasure',\n",
              " 'weightedFalsePositiveRate',\n",
              " 'weightedPrecision',\n",
              " 'weightedRecall',\n",
              " 'weightedTruePositiveRate']"
            ]
          },
          "metadata": {
            "tags": []
          },
          "execution_count": 82
        }
      ]
    },
    {
      "cell_type": "code",
      "metadata": {
        "colab": {
          "base_uri": "https://localhost:8080/"
        },
        "id": "d6svQqA7WGfO",
        "outputId": "6d455795-80dc-4555-8edd-57226875d516"
      },
      "source": [
        "print(\"Accuracy\",lr_metric.accuracy)"
      ],
      "execution_count": 83,
      "outputs": [
        {
          "output_type": "stream",
          "text": [
            "Accuracy 0.979381443298969\n"
          ],
          "name": "stdout"
        }
      ]
    },
    {
      "cell_type": "code",
      "metadata": {
        "colab": {
          "base_uri": "https://localhost:8080/"
        },
        "id": "cXyR5XLzWepF",
        "outputId": "21ab08e3-d640-46fd-c1bb-7b92dc8867b6"
      },
      "source": [
        "print(\"Precision\",lr_metric.precision(1.0))\n",
        "print(\"Recall\",lr_metric.recall(1.0))\n",
        "print(\"F1Score\",lr_metric.fMeasure(1.0))"
      ],
      "execution_count": 85,
      "outputs": [
        {
          "output_type": "stream",
          "text": [
            "Precision 0.5\n",
            "Recall 1.0\n",
            "F1Score 0.6666666666666666\n"
          ],
          "name": "stdout"
        }
      ]
    },
    {
      "cell_type": "code",
      "metadata": {
        "colab": {
          "base_uri": "https://localhost:8080/"
        },
        "id": "RjlcPrr6W0M1",
        "outputId": "edcc3e4d-2f34-4944-a9f0-3523fcc4753e"
      },
      "source": [
        "dir(lr_model)"
      ],
      "execution_count": 86,
      "outputs": [
        {
          "output_type": "execute_result",
          "data": {
            "text/plain": [
              "['__abstractmethods__',\n",
              " '__class__',\n",
              " '__del__',\n",
              " '__delattr__',\n",
              " '__dict__',\n",
              " '__dir__',\n",
              " '__doc__',\n",
              " '__eq__',\n",
              " '__format__',\n",
              " '__ge__',\n",
              " '__getattribute__',\n",
              " '__gt__',\n",
              " '__hash__',\n",
              " '__init__',\n",
              " '__init_subclass__',\n",
              " '__le__',\n",
              " '__lt__',\n",
              " '__module__',\n",
              " '__ne__',\n",
              " '__new__',\n",
              " '__reduce__',\n",
              " '__reduce_ex__',\n",
              " '__repr__',\n",
              " '__setattr__',\n",
              " '__sizeof__',\n",
              " '__str__',\n",
              " '__subclasshook__',\n",
              " '__weakref__',\n",
              " '_abc_impl',\n",
              " '_call_java',\n",
              " '_checkThresholdConsistency',\n",
              " '_copyValues',\n",
              " '_copy_params',\n",
              " '_create_from_java_class',\n",
              " '_create_params_from_java',\n",
              " '_defaultParamMap',\n",
              " '_dummy',\n",
              " '_empty_java_param_map',\n",
              " '_from_java',\n",
              " '_java_obj',\n",
              " '_make_java_param_pair',\n",
              " '_new_java_array',\n",
              " '_new_java_obj',\n",
              " '_paramMap',\n",
              " '_params',\n",
              " '_randomUID',\n",
              " '_resetUid',\n",
              " '_resolveParam',\n",
              " '_set',\n",
              " '_setDefault',\n",
              " '_shouldOwn',\n",
              " '_testOwnParam',\n",
              " '_to_java',\n",
              " '_transfer_param_map_from_java',\n",
              " '_transfer_param_map_to_java',\n",
              " '_transfer_params_from_java',\n",
              " '_transfer_params_to_java',\n",
              " '_transform',\n",
              " 'aggregationDepth',\n",
              " 'clear',\n",
              " 'coefficientMatrix',\n",
              " 'coefficients',\n",
              " 'copy',\n",
              " 'elasticNetParam',\n",
              " 'evaluate',\n",
              " 'explainParam',\n",
              " 'explainParams',\n",
              " 'extractParamMap',\n",
              " 'family',\n",
              " 'featuresCol',\n",
              " 'fitIntercept',\n",
              " 'getAggregationDepth',\n",
              " 'getElasticNetParam',\n",
              " 'getFamily',\n",
              " 'getFeaturesCol',\n",
              " 'getFitIntercept',\n",
              " 'getLabelCol',\n",
              " 'getLowerBoundsOnCoefficients',\n",
              " 'getLowerBoundsOnIntercepts',\n",
              " 'getMaxBlockSizeInMB',\n",
              " 'getMaxIter',\n",
              " 'getOrDefault',\n",
              " 'getParam',\n",
              " 'getPredictionCol',\n",
              " 'getProbabilityCol',\n",
              " 'getRawPredictionCol',\n",
              " 'getRegParam',\n",
              " 'getStandardization',\n",
              " 'getThreshold',\n",
              " 'getThresholds',\n",
              " 'getTol',\n",
              " 'getUpperBoundsOnCoefficients',\n",
              " 'getUpperBoundsOnIntercepts',\n",
              " 'getWeightCol',\n",
              " 'hasDefault',\n",
              " 'hasParam',\n",
              " 'hasSummary',\n",
              " 'intercept',\n",
              " 'interceptVector',\n",
              " 'isDefined',\n",
              " 'isSet',\n",
              " 'labelCol',\n",
              " 'load',\n",
              " 'lowerBoundsOnCoefficients',\n",
              " 'lowerBoundsOnIntercepts',\n",
              " 'maxBlockSizeInMB',\n",
              " 'maxIter',\n",
              " 'numClasses',\n",
              " 'numFeatures',\n",
              " 'params',\n",
              " 'predict',\n",
              " 'predictProbability',\n",
              " 'predictRaw',\n",
              " 'predictionCol',\n",
              " 'probabilityCol',\n",
              " 'rawPredictionCol',\n",
              " 'read',\n",
              " 'regParam',\n",
              " 'save',\n",
              " 'set',\n",
              " 'setFeaturesCol',\n",
              " 'setPredictionCol',\n",
              " 'setProbabilityCol',\n",
              " 'setRawPredictionCol',\n",
              " 'setThreshold',\n",
              " 'setThresholds',\n",
              " 'standardization',\n",
              " 'summary',\n",
              " 'threshold',\n",
              " 'thresholds',\n",
              " 'tol',\n",
              " 'transform',\n",
              " 'uid',\n",
              " 'upperBoundsOnCoefficients',\n",
              " 'upperBoundsOnIntercepts',\n",
              " 'weightCol',\n",
              " 'write']"
            ]
          },
          "metadata": {
            "tags": []
          },
          "execution_count": 86
        }
      ]
    },
    {
      "cell_type": "code",
      "metadata": {
        "id": "Q3xeqbFdW8e1"
      },
      "source": [
        "# Salvar Model\n",
        "lr_model.save(\"lr_model_30\")\n",
        "lr_model.write().save(\"mylr_model\")"
      ],
      "execution_count": 87,
      "outputs": []
    }
  ]
}